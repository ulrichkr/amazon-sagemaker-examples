{
 "cells": [
  {
   "cell_type": "code",
   "execution_count": 11,
   "metadata": {},
   "outputs": [
    {
     "name": "stdout",
     "output_type": "stream",
     "text": [
      "--------------------!"
     ]
    }
   ],
   "source": [
    "from sagemaker.jumpstart.model import JumpStartModel\n",
    "from sagemaker.serializers import JSONSerializer\n",
    "\n",
    "\n",
    "model_id = \"huggingface-textgeneration1-mpt-7b-storywriter-bf16\"\n",
    "model = JumpStartModel(model_id=model_id)\n",
    "predictor = model.deploy()\n",
    "predictor.serializer = JSONSerializer()\n",
    "predictor.content_type = \"application/json\""
   ]
  },
  {
   "cell_type": "code",
   "execution_count": 14,
   "metadata": {},
   "outputs": [
    {
     "name": "stdout",
     "output_type": "stream",
     "text": [
      "The funny thing about cats is that they don't really like to be petted. They like to be stroked, but they don't like to be petted. They like to be picked up, but they don't like to be petted. They like to be scratched, but they don't like to be petted. They like to be stroked, but they don't like to be petted. They like to be picked up, but they don't like to be petted. They like to be\n"
     ]
    }
   ],
   "source": [
    "payload = {\"text_inputs\": \"The funny thing about cats\", \"max_new_tokens\": 100}\n",
    "\n",
    "print(predictor.predict(payload)[0][0][\"generated_text\"])"
   ]
  },
  {
   "cell_type": "code",
   "execution_count": 10,
   "metadata": {},
   "outputs": [],
   "source": [
    "predictor.delete_model()\n",
    "predictor.delete_endpoint()"
   ]
  }
 ],
 "metadata": {
  "kernelspec": {
   "display_name": "py38-huggingface-test",
   "language": "python",
   "name": "python3"
  },
  "language_info": {
   "codemirror_mode": {
    "name": "ipython",
    "version": 3
   },
   "file_extension": ".py",
   "mimetype": "text/x-python",
   "name": "python",
   "nbconvert_exporter": "python",
   "pygments_lexer": "ipython3",
   "version": "3.8.0"
  },
  "orig_nbformat": 4
 },
 "nbformat": 4,
 "nbformat_minor": 2
}
